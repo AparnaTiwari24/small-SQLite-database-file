{
 "cells": [
  {
   "cell_type": "code",
   "execution_count": 104,
   "id": "b93d5a54-af36-4dde-84ff-048252fb5496",
   "metadata": {},
   "outputs": [],
   "source": [
    "import sqlite3\n",
    "import pandas as pd\n",
    "import matplotlib.pyplot as plt"
   ]
  },
  {
   "cell_type": "code",
   "execution_count": 108,
   "id": "02c42e0b-64b2-4b92-96d0-b1a823cf2bff",
   "metadata": {},
   "outputs": [
    {
     "name": "stdout",
     "output_type": "stream",
     "text": [
      "Database created and sample data inserted successfully!\n"
     ]
    }
   ],
   "source": [
    "# Create database and table, and insert sample data\n",
    "def create_database():\n",
    "    conn = sqlite3.connect(\"sales_data.db\")\n",
    "    cursor = conn.cursor()\n",
    "    \n",
    "    # Create table\n",
    "    cursor.execute(\"\"\"\n",
    "        CREATE TABLE IF NOT EXISTS sales (\n",
    "            id INTEGER PRIMARY KEY AUTOINCREMENT,\n",
    "            product TEXT,\n",
    "            quantity INTEGER,\n",
    "            price REAL\n",
    "        )\n",
    "    \"\"\")\n",
    "    \n",
    "    # Insert sample data\n",
    "    sales_data = [\n",
    "        (\"Product A\", 10, 15.0),\n",
    "        (\"Product B\", 5, 25.0),\n",
    "        (\"Product A\", 7, 15.0),\n",
    "        (\"Product C\", 3, 30.0),\n",
    "        (\"Product B\", 8, 25.0),\n",
    "    ]\n",
    "    \n",
    "    cursor.executemany(\n",
    "        \"INSERT INTO sales (product, quantity, price) VALUES (?, ?, ?)\",\n",
    "        sales_data\n",
    "    )\n",
    "    \n",
    "    conn.commit()\n",
    "    conn.close()\n",
    "print(\"Database created and sample data inserted successfully!\")"
   ]
  },
  {
   "cell_type": "code",
   "execution_count": 134,
   "id": "7adac055-7264-4cb8-99ba-3826c98804dd",
   "metadata": {},
   "outputs": [
    {
     "name": "stdout",
     "output_type": "stream",
     "text": [
      "\n",
      "Sales Summary:\n",
      "\n",
      "      product  total_qty  revenue\n",
      "0  Pproduct C          6    180.0\n",
      "1   Product A         85   1275.0\n",
      "2   Product B         65   1625.0\n",
      "3   Product C          9    270.0\n"
     ]
    },
    {
     "data": {
      "image/png": "[encoded data removed]",
      "text/plain": [
       "<Figure size 640x480 with 1 Axes>"
      ]
     },
     "metadata": {},
     "output_type": "display_data"
    },
    {
     "data": {
      "text/plain": [
       "<Figure size 640x480 with 0 Axes>"
      ]
     },
     "metadata": {},
     "output_type": "display_data"
    }
   ],
   "source": [
    "#Query the database and calculate total quantity and revenue\n",
    "def query_data():\n",
    "    conn = sqlite3.connect(\"sales_data.db\")\n",
    "    \n",
    "    query = \"\"\"\n",
    "        SELECT\n",
    "            product,\n",
    "            SUM(quantity) AS total_qty,\n",
    "            SUM(quantity * price) AS revenue\n",
    "        FROM\n",
    "            sales\n",
    "        GROUP BY\n",
    "            product\n",
    "    \"\"\"\n",
    "    \n",
    "    df = pd.read_sql_query(query, conn)\n",
    "    conn.close()\n",
    "    \n",
    "    print(\"\\nSales Summary:\\n\")\n",
    "    print(df)\n",
    "    \n",
    "    return df\n",
    "\n",
    "# Visualize the revenue data using a bar chart\n",
    "def plot_data(df):\n",
    "    df.plot(kind='bar', x='product', y='revenue', color='skyblue')\n",
    "    plt.title(\"Revenue by Product\")\n",
    "    plt.xlabel(\"Product\")\n",
    "    plt.ylabel(\"Revenue ($)\")\n",
    "    plt.xticks(rotation=45)\n",
    "    plt.tight_layout()\n",
    "    \n",
    "    # Show the plot\n",
    "    plt.show()\n",
    "    \n",
    "    # Optionally, save the plot as an image file\n",
    "    plt.savefig(\"sales_chart.png\")\n",
    "\n",
    "# Main script execution\n",
    "if __name__ == \"__main__\":\n",
    "    create_database()\n",
    "    df = query_data()\n",
    "    plot_data(df)"
   ]
  },
  {
   "cell_type": "code",
   "execution_count": null,
   "id": "80d85810-b4ee-40ad-bbcd-e74e74885f72",
   "metadata": {},
   "outputs": [],
   "source": []
  },
  {
   "cell_type": "code",
   "execution_count": null,
   "id": "bf9200e0-b801-4bee-acf4-73cc607fc4ed",
   "metadata": {},
   "outputs": [],
   "source": []
  },
  {
   "cell_type": "code",
   "execution_count": null,
   "id": "7fd460a7-eb62-4abb-ae15-4f4be1b0cb1d",
   "metadata": {},
   "outputs": [],
   "source": []
  },
  {
   "cell_type": "code",
   "execution_count": null,
   "id": "7cf1b8b6-973e-4a43-a1a3-94ba4f5ec8f9",
   "metadata": {},
   "outputs": [],
   "source": []
  },
  {
   "cell_type": "code",
   "execution_count": null,
   "id": "431d6a48-22a4-4101-92eb-46243676fb12",
   "metadata": {},
   "outputs": [],
   "source": []
  },
  {
   "cell_type": "code",
   "execution_count": null,
   "id": "036afc33-00d3-41f5-bde3-ae2bc873d492",
   "metadata": {},
   "outputs": [],
   "source": []
  },
  {
   "cell_type": "code",
   "execution_count": null,
   "id": "875757b7-42de-42d3-b5b6-cfb394242bfe",
   "metadata": {},
   "outputs": [],
   "source": []
  },
  {
   "cell_type": "code",
   "execution_count": null,
   "id": "0bab8a5d-6d56-41c0-a8f0-1cdf70faea14",
   "metadata": {},
   "outputs": [],
   "source": []
  },
  {
   "cell_type": "code",
   "execution_count": null,
   "id": "83223694-dbeb-4d7f-aa55-f20f6ee68bfc",
   "metadata": {},
   "outputs": [],
   "source": []
  },
  {
   "cell_type": "code",
   "execution_count": null,
   "id": "66eb0233-5cc5-4259-af67-9d68dad248a5",
   "metadata": {},
   "outputs": [],
   "source": []
  },
  {
   "cell_type": "code",
   "execution_count": null,
   "id": "71aac1c9-d21f-4a3c-aee4-4f79be88a9f6",
   "metadata": {},
   "outputs": [],
   "source": []
  },
  {
   "cell_type": "code",
   "execution_count": null,
   "id": "619ce6dd-b9c2-4569-aeb9-5412db314661",
   "metadata": {},
   "outputs": [],
   "source": []
  },
  {
   "cell_type": "code",
   "execution_count": null,
   "id": "76e783f9-6f8f-4c91-a6fe-e35ce762e135",
   "metadata": {},
   "outputs": [],
   "source": []
  },
  {
   "cell_type": "code",
   "execution_count": null,
   "id": "78c0ffe0-c62f-4132-9bae-4d27186960ce",
   "metadata": {},
   "outputs": [],
   "source": []
  },
  {
   "cell_type": "code",
   "execution_count": null,
   "id": "0e026b1d-13b1-4cce-906d-932c9cf794d6",
   "metadata": {},
   "outputs": [],
   "source": []
  },
  {
   "cell_type": "code",
   "execution_count": null,
   "id": "808eac1e-863e-486c-a3e1-514edd9b0bca",
   "metadata": {},
   "outputs": [],
   "source": []
  },
  {
   "cell_type": "code",
   "execution_count": null,
   "id": "d6fd8ed4-ea3f-4335-8178-08353ca4d2d2",
   "metadata": {},
   "outputs": [],
   "source": []
  },
  {
   "cell_type": "code",
   "execution_count": null,
   "id": "3e1dd93e-2261-4041-8d99-962b4e8c8d17",
   "metadata": {},
   "outputs": [],
   "source": []
  },
  {
   "cell_type": "code",
   "execution_count": null,
   "id": "e4fd2b47-3bb4-4772-9580-ddc702b1915d",
   "metadata": {},
   "outputs": [],
   "source": []
  },
  {
   "cell_type": "code",
   "execution_count": null,
   "id": "a810e592-0937-4000-8834-4c56c1a53ffe",
   "metadata": {},
   "outputs": [],
   "source": []
  },
  {
   "cell_type": "code",
   "execution_count": null,
   "id": "5cf7b5f3-c7f9-476a-ad7d-8951b3ade312",
   "metadata": {},
   "outputs": [],
   "source": []
  },
  {
   "cell_type": "code",
   "execution_count": null,
   "id": "d748d595-84c1-4718-ad59-2346bba9d3cf",
   "metadata": {},
   "outputs": [],
   "source": []
  },
  {
   "cell_type": "code",
   "execution_count": null,
   "id": "d468a693-8e81-41f8-a7ee-e3be6c6eb632",
   "metadata": {},
   "outputs": [],
   "source": []
  }
 ],
 "metadata": {
  "kernelspec": {
   "display_name": "Python 3 (ipykernel)",
   "language": "python",
   "name": "python3"
  },
  "language_info": {
   "codemirror_mode": {
    "name": "ipython",
    "version": 3
   },
   "file_extension": ".py",
   "mimetype": "text/x-python",
   "name": "python",
   "nbconvert_exporter": "python",
   "pygments_lexer": "ipython3",
   "version": "3.12.4"
  }
 },
 "nbformat": 4,
 "nbformat_minor": 5
}
